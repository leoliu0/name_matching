{
 "cells": [
  {
   "cell_type": "code",
   "execution_count": null,
   "metadata": {},
   "outputs": [],
   "source": [
    "from matcher import name_preprocessing"
   ]
  },
  {
   "cell_type": "code",
   "execution_count": null,
   "metadata": {},
   "outputs": [],
   "source": [
    "df = rpq('/mnt/da/patstat/patstat_parquet/tls906/',columns=['han_id','han_name','han_harmonized']\n",
    "        ).query('han_harmonized>1')"
   ]
  },
  {
   "cell_type": "code",
   "execution_count": null,
   "metadata": {},
   "outputs": [],
   "source": [
    "pandarallel.initialize(nb_workers=100)"
   ]
  },
  {
   "cell_type": "code",
   "execution_count": null,
   "metadata": {},
   "outputs": [],
   "source": [
    "han = df.han_name.drop_duplicates().parallel_map(name_preprocessing).to_list()"
   ]
  },
  {
   "cell_type": "code",
   "execution_count": null,
   "metadata": {},
   "outputs": [],
   "source": [
    "len(han)"
   ]
  },
  {
   "cell_type": "code",
   "execution_count": null,
   "metadata": {},
   "outputs": [],
   "source": [
    "from rapidfuzz import process,fuzz"
   ]
  },
  {
   "cell_type": "code",
   "execution_count": null,
   "metadata": {},
   "outputs": [],
   "source": [
    "choices = rpq('../ob_w_company_id_table_lm.pq',columns=['name_internat']\n",
    "        ).name_internat.drop_duplicates().dropna().parallel_map(name_preprocessing).to_list()"
   ]
  },
  {
   "cell_type": "code",
   "execution_count": null,
   "metadata": {},
   "outputs": [],
   "source": [
    "def run(name):\n",
    "    return name,process.extract(name,choices,scorer=fuzz.WRatio,limit=100,score_cutoff=80)\n",
    "\n",
    "with Pool(100) as p:\n",
    "    with open('han_nm.csv','w') as f:\n",
    "        wr = csv.writer(f)\n",
    "        for n,res in tqdm(p.imap(run,han,chunksize=100),total=len(han)):\n",
    "            for r in res:\n",
    "                wr.writerow([n,res[0],int(res[1])])"
   ]
  }
 ],
 "metadata": {
  "kernelspec": {
   "display_name": "Python 3 (ipykernel)",
   "language": "python",
   "name": "python3"
  },
  "language_info": {
   "codemirror_mode": {
    "name": "ipython",
    "version": 3
   },
   "file_extension": ".py",
   "mimetype": "text/x-python",
   "name": "python",
   "nbconvert_exporter": "python",
   "pygments_lexer": "ipython3",
   "version": "3.8.12"
  }
 },
 "nbformat": 4,
 "nbformat_minor": 4
}
