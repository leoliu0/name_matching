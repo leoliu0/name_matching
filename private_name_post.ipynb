{
 "cells": [
  {
   "cell_type": "code",
   "execution_count": 1,
   "id": "097170f0-c548-466e-a822-cdf87cbea882",
   "metadata": {},
   "outputs": [],
   "source": [
    "from matcher import match,name_preprocessing"
   ]
  },
  {
   "cell_type": "code",
   "execution_count": 2,
   "id": "669207a7-c6c7-4a82-bbd1-9d9af2f3082c",
   "metadata": {},
   "outputs": [],
   "source": [
    "df = rcsv('../private_nm.csv',names=['a','b','s'])"
   ]
  },
  {
   "cell_type": "code",
   "execution_count": 3,
   "id": "96cea5ae-b808-4629-a3d9-ab934b157f39",
   "metadata": {},
   "outputs": [],
   "source": [
    "df = df[df['s']>80]"
   ]
  },
  {
   "cell_type": "code",
   "execution_count": 4,
   "id": "7fb5606a-2d5d-4b2c-ab64-5b5b52d2106a",
   "metadata": {},
   "outputs": [
    {
     "name": "stdout",
     "output_type": "stream",
     "text": [
      "INFO: Pandarallel will run on 100 workers.\n",
      "INFO: Pandarallel will use Memory file system to transfer data between the main process and workers.\n"
     ]
    }
   ],
   "source": [
    "pandarallel.initialize(nb_workers=100)"
   ]
  },
  {
   "cell_type": "code",
   "execution_count": 5,
   "id": "1805468f-15a7-4116-944f-878a2d32bd5e",
   "metadata": {},
   "outputs": [],
   "source": [
    "tqdm.pandas()"
   ]
  },
  {
   "cell_type": "code",
   "execution_count": null,
   "id": "d45ccb97-269c-47f1-83b2-934dbee8ad68",
   "metadata": {},
   "outputs": [],
   "source": [
    "df['m'] = df.parallel_apply(lambda s:match(s.a,s.b),axis=1)"
   ]
  },
  {
   "cell_type": "code",
   "execution_count": null,
   "id": "c59ca0e6-9866-4f58-8217-cc89dd33f38c",
   "metadata": {},
   "outputs": [],
   "source": [
    "# df['m'] = df.progress_apply(lambda s:match(s.a,s.b),axis=1)"
   ]
  },
  {
   "cell_type": "code",
   "execution_count": null,
   "id": "1c72b085-e0f6-4f2b-bd32-8bf9c25c0c65",
   "metadata": {},
   "outputs": [],
   "source": [
    "df.query(\"m>0\").to_csv('matched.csv')"
   ]
  }
 ],
 "metadata": {
  "kernelspec": {
   "display_name": "Python 3 (ipykernel)",
   "language": "python",
   "name": "python3"
  },
  "language_info": {
   "codemirror_mode": {
    "name": "ipython",
    "version": 3
   },
   "file_extension": ".py",
   "mimetype": "text/x-python",
   "name": "python",
   "nbconvert_exporter": "python",
   "pygments_lexer": "ipython3",
   "version": "3.8.12"
  }
 },
 "nbformat": 4,
 "nbformat_minor": 5
}
